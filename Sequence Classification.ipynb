{
 "cells": [
  {
   "cell_type": "markdown",
   "metadata": {},
   "source": [
    "### Code from Bi-directional LSTM tutorial \n",
    "https://machinelearningmastery.com/develop-bidirectional-lstm-sequence-classification-python-keras/\n"
   ]
  },
  {
   "cell_type": "code",
   "execution_count": 22,
   "metadata": {
    "collapsed": false
   },
   "outputs": [],
   "source": [
    "from random import random\n",
    "from numpy import array\n",
    "from numpy import cumsum\n",
    "from keras.models import Sequential\n",
    "\n",
    "# Traditional LSTM\n",
    "# Given a sequence of random values between 0 and 1,\n",
    "# assign an output of 0,\n",
    "# sum up the sequence,\n",
    "# when a threshold is reached, assign an output of 1\n",
    "\n",
    "def get_sequence(n_timesteps):\n",
    "    X = array([random() for _ in range(n_timesteps)])\n",
    "    limit = n_timesteps/4.0\n",
    "    y = array([0 if x < limit else 1 for x in cumsum(X)])    \n",
    "    \n",
    "    X = X.reshape(1, n_timesteps, 1)\n",
    "    y = y.reshape(1, n_timesteps, 1)\n",
    "\n",
    "    return X, y\n"
   ]
  },
  {
   "cell_type": "code",
   "execution_count": 21,
   "metadata": {
    "collapsed": false
   },
   "outputs": [
    {
     "name": "stdout",
     "output_type": "stream",
     "text": [
      "[[[ 0.28238311]\n",
      "  [ 0.26553763]\n",
      "  [ 0.04702921]\n",
      "  [ 0.71302156]\n",
      "  [ 0.41869366]\n",
      "  [ 0.58109325]\n",
      "  [ 0.76037344]\n",
      "  [ 0.72475499]\n",
      "  [ 0.05964365]\n",
      "  [ 0.77431409]]]\n",
      "[[[0]\n",
      "  [0]\n",
      "  [0]\n",
      "  [0]\n",
      "  [0]\n",
      "  [0]\n",
      "  [1]\n",
      "  [1]\n",
      "  [1]\n",
      "  [1]]]\n"
     ]
    }
   ],
   "source": [
    "X, y = get_sequence(10)\n",
    "print(X)\n",
    "print(y)"
   ]
  },
  {
   "cell_type": "code",
   "execution_count": null,
   "metadata": {
    "collapsed": true
   },
   "outputs": [],
   "source": [
    "model = Sequential()\n",
    "model.add(LSTM(20, input_shape(10,1), return_sequences=True))\n",
    "model.add(TimeDistributed(Dense(1, activation='sigmoid')))\n",
    "model.compile(loss='binary_crossentropy', optimizer='adam', metrics='acc')\n",
    "\n",
    "for epoch in range(1000):\n",
    "    X, y = get_sequence(n_timesteps)\n",
    "    model.fit(X, y, epochs=1, batch_size=1, verbose=2)\n",
    "\n",
    "\n",
    "X, y = get_sequence(n_timesteps)\n",
    "yhat = model.predict_classes(X, verbose=0)\n",
    "\n",
    "for i in range(n_timesteps):\n",
    "    print('Expected:', y[0, i], 'Predicted', yhat[0, 1])"
   ]
  }
 ],
 "metadata": {
  "anaconda-cloud": {},
  "kernelspec": {
   "display_name": "Python [conda env:IntroToTensorFlow]",
   "language": "python",
   "name": "conda-env-IntroToTensorFlow-py"
  },
  "language_info": {
   "codemirror_mode": {
    "name": "ipython",
    "version": 3
   },
   "file_extension": ".py",
   "mimetype": "text/x-python",
   "name": "python",
   "nbconvert_exporter": "python",
   "pygments_lexer": "ipython3",
   "version": "3.6.0"
  }
 },
 "nbformat": 4,
 "nbformat_minor": 1
}
