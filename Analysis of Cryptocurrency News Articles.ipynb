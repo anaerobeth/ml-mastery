{
 "cells": [
  {
   "cell_type": "code",
   "execution_count": 20,
   "metadata": {},
   "outputs": [],
   "source": [
    "import pandas as pd\n",
    "import re\n",
    "from newspaper import Article"
   ]
  },
  {
   "cell_type": "code",
   "execution_count": 2,
   "metadata": {},
   "outputs": [],
   "source": [
    "link = 'https://www.nytimes.com/2017/09/01/opinion/artificial-intelligence-regulations-rules.html'"
   ]
  },
  {
   "cell_type": "code",
   "execution_count": 3,
   "metadata": {},
   "outputs": [
    {
     "data": {
      "text/plain": [
       "'How to Regulate Artificial Intelligence'"
      ]
     },
     "execution_count": 3,
     "metadata": {},
     "output_type": "execute_result"
    }
   ],
   "source": [
    "article = Article(link)\n",
    "article.download()\n",
    "article.parse()\n",
    "article.title"
   ]
  },
  {
   "cell_type": "code",
   "execution_count": 5,
   "metadata": {},
   "outputs": [],
   "source": [
    "import requests\n",
    "from bs4 import BeautifulSoup"
   ]
  },
  {
   "cell_type": "code",
   "execution_count": 18,
   "metadata": {},
   "outputs": [],
   "source": [
    "links = []\n",
    "soup = BeautifulSoup(open(\"nytimes-cryptocurrency-1.html\"), \"html.parser\")"
   ]
  },
  {
   "cell_type": "code",
   "execution_count": 28,
   "metadata": {},
   "outputs": [
    {
     "name": "stdout",
     "output_type": "stream",
     "text": [
      "['https://www.nytimes.com/', 'https://query.nytimes.com/', 'https://www.nytimes.com/reuters/2017/12/14/technology/14reuters-siebertfinancial-stocks.html', 'https://www.nytimes.com/2017/08/03/style/what-is-cryptocurrency.html', 'https://www.nytimes.com/2017/08/03/style/what-is-cryptocurrency.html', 'https://www.nytimes.com/reuters/2017/12/21/business/21reuters-russia-bitcoin-law-draft.html', 'https://www.nytimes.com/reuters/2017/12/19/business/19reuters-the-crypto-company-suspension.html', 'https://www.nytimes.com/reuters/2017/12/22/business/22reuters-cryptocurrency-companies.html', 'https://www.nytimes.com/reuters/2017/12/22/business/22reuters-cryptocurrency-companies-factbox.html', 'https://www.nytimes.com/reuters/2017/12/21/business/21reuters-global-bitcoin.html', 'https://www.nytimes.com/aponline/2017/12/21/business/ap-us-long-island-iced-tea-name-change.html', 'https://www.nytimes.com/reuters/2017/12/19/business/19reuters-coinbase-bitcoin-cash.html', 'https://www.nytimes.com/reuters/2017/12/19/technology/19reuters-southkorea-bitcoin.html', 'https://www.nytco.com/', 'https://spiderbites.nytimes.com/', 'https://www.nytimes.com/privacy', 'https://www.nytimes.com/ref/membercenter/help/privacy.html#pp', 'https://www.nytimes.whsites.net/mediakit/', 'https://www.nytimes.com/content/help/rights/sale/terms-of-sale.html', 'https://www.nytimes.com/ref/membercenter/help/agree.html', 'https://www.nytco.com/careers', 'https://www.nytimes.com/rss', 'https://www.nytimes.com/membercenter/sitehelp.html', 'https://www.nytimes.com/ref/membercenter/help/infoservdirectory.html', 'https://myaccount.nytimes.com/membercenter/feedback.html', 'https://query.nytimes.com/search/sitesearch/?action=click&contentCollection&region=TopBar&WT.nav=searchWidget&module=SearchSubmit&pgtype=Homepage#', 'https://www.nytimes.com/forgot', 'https://query.nytimes.com/search/sitesearch/?action=click&contentCollection&region=TopBar&WT.nav=searchWidget&module=SearchSubmit&pgtype=Homepage#', 'https://query.nytimes.com/search/sitesearch/?action=click&contentCollection&region=TopBar&WT.nav=searchWidget&module=SearchSubmit&pgtype=Homepage#', 'https://www.nytimes.com/forgot', 'https://query.nytimes.com/search/sitesearch/?action=click&contentCollection&region=TopBar&WT.nav=searchWidget&module=SearchSubmit&pgtype=Homepage#']\n"
     ]
    }
   ],
   "source": [
    "for link in soup.findAll('a', attrs={'href': re.compile(\"^https://\")}):\n",
    "    links.append(link.get('href'))\n",
    " \n",
    "print(links)"
   ]
  },
  {
   "cell_type": "code",
   "execution_count": 32,
   "metadata": {},
   "outputs": [],
   "source": [
    "urls = []\n",
    "for num in range(1, 10):\n",
    "    file = \"nytimes-cryptocurrency-\" + str(num) + \".html\"\n",
    "    soup = BeautifulSoup(open(file), \"html.parser\")\n",
    "    \n",
    "    for link in soup.findAll('a', attrs={'href': re.compile(\"^https://\")}):\n",
    "        urls.append(link.get('href'))"
   ]
  },
  {
   "cell_type": "code",
   "execution_count": 34,
   "metadata": {},
   "outputs": [],
   "source": [
    "import csv\n",
    "\n",
    "with open('nytimes-cryptocurrency-urls.csv', 'w') as file:\n",
    "    wr = csv.writer(file, quoting=csv.QUOTE_ALL)\n",
    "    wr.writerow(urls)\n",
    "    "
   ]
  },
  {
   "cell_type": "code",
   "execution_count": null,
   "metadata": {},
   "outputs": [],
   "source": []
  }
 ],
 "metadata": {
  "anaconda-cloud": {},
  "kernelspec": {
   "display_name": "Python [conda root]",
   "language": "python",
   "name": "conda-root-py"
  },
  "language_info": {
   "codemirror_mode": {
    "name": "ipython",
    "version": 3
   },
   "file_extension": ".py",
   "mimetype": "text/x-python",
   "name": "python",
   "nbconvert_exporter": "python",
   "pygments_lexer": "ipython3",
   "version": "3.5.2"
  }
 },
 "nbformat": 4,
 "nbformat_minor": 2
}
