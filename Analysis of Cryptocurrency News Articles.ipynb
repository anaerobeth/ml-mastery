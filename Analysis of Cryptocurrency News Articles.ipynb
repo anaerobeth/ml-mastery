{
 "cells": [
  {
   "cell_type": "markdown",
   "metadata": {},
   "source": [
    "## Analysis of Cryptocurrency News Articles"
   ]
  },
  {
   "cell_type": "markdown",
   "metadata": {},
   "source": [
    "### Imports"
   ]
  },
  {
   "cell_type": "code",
   "execution_count": 20,
   "metadata": {},
   "outputs": [],
   "source": [
    "import pandas as pd\n",
    "import numpy as np\n",
    "import re\n",
    "import requests\n",
    "import csv\n",
    "\n",
    "from bs4 import BeautifulSoup\n",
    "from newspaper import Article"
   ]
  },
  {
   "cell_type": "markdown",
   "metadata": {},
   "source": [
    "### Data set"
   ]
  },
  {
   "cell_type": "markdown",
   "metadata": {},
   "source": [
    "Using a keyword search for \"cryptocurrency\", I found the links for 80+ articles published in the New York Times in the last 12 months. The search pages could not be scraped automatically so I saved the html files of the results in separate files named \"nytimes-cryptocurrency-1.html\", \"nytimes-cryptocurrency-2.html\" and so on. I used BeautifulSoup to parse the html files and save the links to the individual articles."
   ]
  },
  {
   "cell_type": "code",
   "execution_count": 32,
   "metadata": {},
   "outputs": [],
   "source": [
    "urls = []\n",
    "for num in range(1, 10):\n",
    "    file = \"nytimes-cryptocurrency-\" + str(num) + \".html\"\n",
    "    soup = BeautifulSoup(open(file), \"html.parser\")\n",
    "    \n",
    "    for link in soup.findAll('a', attrs={'href': re.compile(\"^https://\")}):\n",
    "        urls.append(link.get('href'))"
   ]
  },
  {
   "cell_type": "code",
   "execution_count": 34,
   "metadata": {},
   "outputs": [],
   "source": [
    "with open('nytimes-cryptocurrency-urls.csv', 'w') as file:\n",
    "    wr = csv.writer(file, quoting=csv.QUOTE_ALL)\n",
    "    wr.writerow(urls)    "
   ]
  },
  {
   "cell_type": "markdown",
   "metadata": {},
   "source": [
    "### Corpus"
   ]
  },
  {
   "cell_type": "code",
   "execution_count": 40,
   "metadata": {},
   "outputs": [
    {
     "name": "stdout",
     "output_type": "stream",
     "text": [
      "You must `download()` an article first!\n",
      "You must `download()` an article first!\n",
      "You must `download()` an article first!\n",
      "You must `download()` an article first!\n",
      "You must `download()` an article first!\n",
      "You must `download()` an article first!\n",
      "You must `download()` an article first!\n",
      "You must `download()` an article first!\n",
      "You must `download()` an article first!\n",
      "You must `download()` an article first!\n",
      "You must `download()` an article first!\n",
      "You must `download()` an article first!\n",
      "You must `download()` an article first!\n",
      "You must `download()` an article first!\n",
      "You must `download()` an article first!\n",
      "You must `download()` an article first!\n",
      "You must `download()` an article first!\n",
      "You must `download()` an article first!\n"
     ]
    },
    {
     "data": {
      "text/html": [
       "<div>\n",
       "<style>\n",
       "    .dataframe thead tr:only-child th {\n",
       "        text-align: right;\n",
       "    }\n",
       "\n",
       "    .dataframe thead th {\n",
       "        text-align: left;\n",
       "    }\n",
       "\n",
       "    .dataframe tbody tr th {\n",
       "        vertical-align: top;\n",
       "    }\n",
       "</style>\n",
       "<table border=\"1\" class=\"dataframe\">\n",
       "  <thead>\n",
       "    <tr style=\"text-align: right;\">\n",
       "      <th></th>\n",
       "      <th>date</th>\n",
       "      <th>keywords</th>\n",
       "      <th>link</th>\n",
       "      <th>summary</th>\n",
       "      <th>text</th>\n",
       "      <th>title</th>\n",
       "    </tr>\n",
       "  </thead>\n",
       "  <tbody>\n",
       "    <tr>\n",
       "      <th>0</th>\n",
       "      <td>NaT</td>\n",
       "      <td>[world, sent, tip, state, states, board, lawye...</td>\n",
       "      <td>https://www.nytimes.com/</td>\n",
       "      <td>The Virginia State Board of Elections said it ...</td>\n",
       "      <td>The Virginia State Board of Elections said it ...</td>\n",
       "      <td>Breaking News, World News &amp; Multimedia</td>\n",
       "    </tr>\n",
       "    <tr>\n",
       "      <th>1</th>\n",
       "      <td>NaT</td>\n",
       "      <td>[world, sent, tip, state, states, board, lawye...</td>\n",
       "      <td>https://query.nytimes.com/</td>\n",
       "      <td>The Virginia State Board of Elections said it ...</td>\n",
       "      <td>The Virginia State Board of Elections said it ...</td>\n",
       "      <td>Breaking News, World News &amp; Multimedia</td>\n",
       "    </tr>\n",
       "    <tr>\n",
       "      <th>2</th>\n",
       "      <td>2017-12-14</td>\n",
       "      <td>[value, financials, reading, york, trading, bl...</td>\n",
       "      <td>https://www.nytimes.com/reuters/2017/12/14/tec...</td>\n",
       "      <td>(Reuters) - Shares of Siebert Financial Corp, ...</td>\n",
       "      <td>(Reuters) - Shares of Siebert Financial Corp, ...</td>\n",
       "      <td>Brokerage Siebert Financial's Shares Double on...</td>\n",
       "    </tr>\n",
       "    <tr>\n",
       "      <th>3</th>\n",
       "      <td>2017-08-03</td>\n",
       "      <td>[digital, market, internet, works, pension, vi...</td>\n",
       "      <td>https://www.nytimes.com/2017/08/03/style/what-...</td>\n",
       "      <td>It’s weird to say that owning cryptocurrency s...</td>\n",
       "      <td>Unlike previous generations, many of these gre...</td>\n",
       "      <td>Grandpa Had a Pension. This Generation Has Cry...</td>\n",
       "    </tr>\n",
       "    <tr>\n",
       "      <th>4</th>\n",
       "      <td>2017-08-03</td>\n",
       "      <td>[digital, market, internet, works, pension, vi...</td>\n",
       "      <td>https://www.nytimes.com/2017/08/03/style/what-...</td>\n",
       "      <td>It’s weird to say that owning cryptocurrency s...</td>\n",
       "      <td>Unlike previous generations, many of these gre...</td>\n",
       "      <td>Grandpa Had a Pension. This Generation Has Cry...</td>\n",
       "    </tr>\n",
       "  </tbody>\n",
       "</table>\n",
       "</div>"
      ],
      "text/plain": [
       "        date                                           keywords  \\\n",
       "0        NaT  [world, sent, tip, state, states, board, lawye...   \n",
       "1        NaT  [world, sent, tip, state, states, board, lawye...   \n",
       "2 2017-12-14  [value, financials, reading, york, trading, bl...   \n",
       "3 2017-08-03  [digital, market, internet, works, pension, vi...   \n",
       "4 2017-08-03  [digital, market, internet, works, pension, vi...   \n",
       "\n",
       "                                                link  \\\n",
       "0                           https://www.nytimes.com/   \n",
       "1                         https://query.nytimes.com/   \n",
       "2  https://www.nytimes.com/reuters/2017/12/14/tec...   \n",
       "3  https://www.nytimes.com/2017/08/03/style/what-...   \n",
       "4  https://www.nytimes.com/2017/08/03/style/what-...   \n",
       "\n",
       "                                             summary  \\\n",
       "0  The Virginia State Board of Elections said it ...   \n",
       "1  The Virginia State Board of Elections said it ...   \n",
       "2  (Reuters) - Shares of Siebert Financial Corp, ...   \n",
       "3  It’s weird to say that owning cryptocurrency s...   \n",
       "4  It’s weird to say that owning cryptocurrency s...   \n",
       "\n",
       "                                                text  \\\n",
       "0  The Virginia State Board of Elections said it ...   \n",
       "1  The Virginia State Board of Elections said it ...   \n",
       "2  (Reuters) - Shares of Siebert Financial Corp, ...   \n",
       "3  Unlike previous generations, many of these gre...   \n",
       "4  Unlike previous generations, many of these gre...   \n",
       "\n",
       "                                               title  \n",
       "0             Breaking News, World News & Multimedia  \n",
       "1             Breaking News, World News & Multimedia  \n",
       "2  Brokerage Siebert Financial's Shares Double on...  \n",
       "3  Grandpa Had a Pension. This Generation Has Cry...  \n",
       "4  Grandpa Had a Pension. This Generation Has Cry...  "
      ]
     },
     "execution_count": 40,
     "metadata": {},
     "output_type": "execute_result"
    }
   ],
   "source": [
    "articles_info = []\n",
    "\n",
    "for link in urls:\n",
    "    article_dict = {}\n",
    "    article_dict[\"link\"] = link\n",
    "    article = Article(link)\n",
    "    article.download()\n",
    "    \n",
    "    try:\n",
    "        article.parse()\n",
    "        article_dict[\"text\"] = article.text\n",
    "        article_dict[\"title\"] = article.title\n",
    "        article_dict[\"date\"] = article.publish_date\n",
    "        article.nlp()\n",
    "        article_dict[\"keywords\"] = article.keywords\n",
    "        article_dict[\"summary\"] = article.summary\n",
    "    except:\n",
    "        article_dict[\"text\"] = np.nan\n",
    "        article_dict[\"title\"] = np.nan\n",
    "        article_dict[\"date\"] = np.nan\n",
    "        article_dict[\"keywords\"] = np.nan\n",
    "        article_dict[\"summary\"] = np.nan\n",
    "        \n",
    "    articles_info.append(article_dict)\n",
    "\n",
    "corpus = pd.DataFrame(articles_info)\n",
    "corpus.head()"
   ]
  },
  {
   "cell_type": "code",
   "execution_count": 57,
   "metadata": {},
   "outputs": [
    {
     "name": "stdout",
     "output_type": "stream",
     "text": [
      "(295, 6)\n",
      "(90, 6)\n"
     ]
    }
   ],
   "source": [
    "print(corpus.shape)\n",
    "corpus_df = corpus.drop_duplicates(['link'])\n",
    "print(corpus_df.shape)"
   ]
  },
  {
   "cell_type": "code",
   "execution_count": 83,
   "metadata": {},
   "outputs": [],
   "source": [
    "corpus_text = []\n",
    "\n",
    "for index, row in corpus_df.iterrows():\n",
    "    corpus_text.append(str(row['text'])) # TfidfVectorizer fit_transform method requires str"
   ]
  },
  {
   "cell_type": "markdown",
   "metadata": {},
   "source": [
    "### Feature Extraction"
   ]
  },
  {
   "cell_type": "code",
   "execution_count": 94,
   "metadata": {},
   "outputs": [],
   "source": [
    "from sklearn.feature_extraction.text import TfidfVectorizer\n",
    "n_features = 50\n",
    "\n",
    "tfidf_vectorizer = TfidfVectorizer(max_df=0.95, max_features=n_features, min_df=4, stop_words='english')\n",
    "tfidf = tfidf_vectorizer.fit_transform(corpus_text)\n",
    "tfidf_feature_names = tfidf_vectorizer.get_feature_names()"
   ]
  },
  {
   "cell_type": "markdown",
   "metadata": {},
   "source": [
    "### Topic Modeling"
   ]
  },
  {
   "cell_type": "markdown",
   "metadata": {},
   "source": [
    "I will use [Non-Negative Matrix Factorization](http://scikit-learn.org/stable/auto_examples/applications/plot_topics_extraction_with_nmf_lda.html#sphx-glr-auto-examples-applications-plot-topics-extraction-with-nmf-lda-py) to discover the main topics which outputs a list of terms representing the topics."
   ]
  },
  {
   "cell_type": "code",
   "execution_count": 98,
   "metadata": {},
   "outputs": [
    {
     "name": "stdout",
     "output_type": "stream",
     "text": [
      "Fitting the NMF model with tf-idf features for 90 samples and 50 features\n"
     ]
    }
   ],
   "source": [
    "from sklearn.decomposition import NMF\n",
    "\n",
    "n_topics = 10\n",
    "print(\"Fitting the NMF model with tf-idf features for {} samples and {} features\".format(len(corpus_text), len(tfidf_feature_names)))\n",
    "nmf = NMF(n_components=n_topics, random_state=1, \n",
    "          alpha=.1, l1_ratio=.5).fit(tfidf)\n"
   ]
  },
  {
   "cell_type": "code",
   "execution_count": 99,
   "metadata": {},
   "outputs": [
    {
     "name": "stdout",
     "output_type": "stream",
     "text": [
      "Topic #0: bitcoin futures exchange price week currency investors trading digital cryptocurrency\n",
      "Topic #1: new times york sign newsletter story people like email reading\n",
      "Topic #2: blockchain technology companies company cryptocurrency continue bitcoin main advertisement digital\n",
      "Topic #3: said currency bank company newsletter digital sign view continue trading\n",
      "Topic #4: information use nyt services personal email digital including tax time\n",
      "Topic #5: mr tax money photo nyt main like story continue advertisement\n",
      "Topic #6: percent futures trading price exchange main continue company sign newsletter\n",
      "Topic #7: market investors year cryptocurrency price time said just com percent\n",
      "Topic #8: north said cryptocurrency year mr just including information main advertisement\n",
      "Topic #9: nytimes com including email time york times digital information new\n",
      "\n"
     ]
    }
   ],
   "source": [
    "def print_top_words(model, feature_names, n_top_words):\n",
    "    for topic_idx, topic in enumerate(model.components_):\n",
    "        message = \"Topic #%d: \" % topic_idx\n",
    "        message += \" \".join([feature_names[i]\n",
    "                             for i in topic.argsort()[:-n_top_words - 1:-1]])\n",
    "        print(message)\n",
    "    print()\n",
    "\n",
    "print_top_words(nmf, tfidf_feature_names, 10)"
   ]
  },
  {
   "cell_type": "markdown",
   "metadata": {},
   "source": [
    "### Results\n",
    "\n",
    "The topics identified above describe the nature of the content in the articles downloaded. Topics 0, 2, 6, and 7 are most related to cryptocurrency while the rest are general topics connected to the NYTimes publication itself.  "
   ]
  },
  {
   "cell_type": "markdown",
   "metadata": {},
   "source": [
    "### References\n",
    "[Topic Modeling using Python](https://opendatascience.com/blog/how-to-analyze-articles-about-data-science-using-data-science)\n",
    "\n",
    "[A tutorial on scraping news articles](https://opendatascience.com/blog/using-the-newspaper-library-to-scrape-news-articles/)\n",
    "\n",
    "[Feature Extraction](http://scikit-learn.org/stable/modules/feature_extraction.html#text-feature-extraction)"
   ]
  }
 ],
 "metadata": {
  "anaconda-cloud": {},
  "kernelspec": {
   "display_name": "Python [conda root]",
   "language": "python",
   "name": "conda-root-py"
  },
  "language_info": {
   "codemirror_mode": {
    "name": "ipython",
    "version": 3
   },
   "file_extension": ".py",
   "mimetype": "text/x-python",
   "name": "python",
   "nbconvert_exporter": "python",
   "pygments_lexer": "ipython3",
   "version": "3.5.2"
  }
 },
 "nbformat": 4,
 "nbformat_minor": 2
}
