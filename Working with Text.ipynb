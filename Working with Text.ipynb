{
 "cells": [
  {
   "cell_type": "markdown",
   "metadata": {},
   "source": [
    "### Create a document-term matrix"
   ]
  },
  {
   "cell_type": "code",
   "execution_count": null,
   "metadata": {},
   "outputs": [],
   "source": [
    "import numpy as np\n",
    "from sklearn.feature_extraction.text import CountVectorizer\n",
    "\n",
    "filenames = ['data/austen-brontë/Austen_Emma.txt',\n",
    "             'data/austen-brontë/Austen_Pride.txt',\n",
    "             'data/austen-brontë/Austen_Sense.txt',\n",
    "             'data/austen-brontë/CBronte_Jane.txt',\n",
    "             'data/austen-brontë/CBronte_Professor.txt',\n",
    "             'data/austen-brontë/CBronte_Villette.txt']\n",
    "\n",
    "vectorizer = CountVectorizer(input='filename')\n",
    "dtm = vectorizer.fit_transform(filenames) \n",
    "vocab = vectorizer.get_feature_names()\n",
    "dtm = dtm.toarray()\n",
    "vocab = np.array(vocab)\n",
    "\n",
    "house_idx = list(vocab).index('house')\n",
    "dtm[0, vocab == 'house']\n",
    "n, _ = dtm.shape\n",
    "dist = np.zeros((n, n))"
   ]
  }
 ],
 "metadata": {
  "anaconda-cloud": {},
  "kernelspec": {
   "display_name": "Python [conda env:IntroToTensorFlow]",
   "language": "python",
   "name": "conda-env-IntroToTensorFlow-py"
  },
  "language_info": {
   "codemirror_mode": {
    "name": "ipython",
    "version": 3
   },
   "file_extension": ".py",
   "mimetype": "text/x-python",
   "name": "python",
   "nbconvert_exporter": "python",
   "pygments_lexer": "ipython3",
   "version": "3.6.0"
  }
 },
 "nbformat": 4,
 "nbformat_minor": 2
}
