{
 "cells": [
  {
   "cell_type": "markdown",
   "metadata": {},
   "source": [
    "Based on [ML data wrangling tutorial](https://elitedatascience.com/python-data-wrangling-tutorial)\n"
   ]
  },
  {
   "cell_type": "markdown",
   "metadata": {},
   "source": [
    "## Goal: Implement a basic momentum trading strategy\n",
    "\n",
    "### Rules:\n",
    "- Buy the cryptocurrency that had the largest price gain over the previous week or month.\n",
    "- Hold for exactly 7 days\n",
    "- Sell our position\n",
    "- Repeat for six months"
   ]
  },
  {
   "cell_type": "code",
   "execution_count": 2,
   "metadata": {
    "collapsed": true
   },
   "outputs": [],
   "source": [
    "import pandas as pd\n",
    "\n",
    "pd.options.display.float_format = '{:,.2f}'.format\n",
    "pd.options.display.max_rows = 200\n",
    "pd.options.display.max_columns = 100"
   ]
  },
  {
   "cell_type": "markdown",
   "metadata": {},
   "source": [
    "### Import the dataset"
   ]
  },
  {
   "cell_type": "code",
   "execution_count": 3,
   "metadata": {
    "collapsed": true
   },
   "outputs": [],
   "source": [
    "df = pd.read_csv('BNC2_sample.csv',\n",
    "                 names=['Code', 'Date', 'Open', 'High', 'Low', \n",
    "                        'Close', 'Volume', 'VWAP', 'TWAP'])"
   ]
  },
  {
   "cell_type": "code",
   "execution_count": 4,
   "metadata": {},
   "outputs": [
    {
     "data": {
      "text/html": [
       "<div>\n",
       "<style>\n",
       "    .dataframe thead tr:only-child th {\n",
       "        text-align: right;\n",
       "    }\n",
       "\n",
       "    .dataframe thead th {\n",
       "        text-align: left;\n",
       "    }\n",
       "\n",
       "    .dataframe tbody tr th {\n",
       "        vertical-align: top;\n",
       "    }\n",
       "</style>\n",
       "<table border=\"1\" class=\"dataframe\">\n",
       "  <thead>\n",
       "    <tr style=\"text-align: right;\">\n",
       "      <th></th>\n",
       "      <th>Code</th>\n",
       "      <th>Date</th>\n",
       "      <th>Open</th>\n",
       "      <th>High</th>\n",
       "      <th>Low</th>\n",
       "      <th>Close</th>\n",
       "      <th>Volume</th>\n",
       "      <th>VWAP</th>\n",
       "      <th>TWAP</th>\n",
       "    </tr>\n",
       "  </thead>\n",
       "  <tbody>\n",
       "    <tr>\n",
       "      <th>0</th>\n",
       "      <td>GWA_BTC</td>\n",
       "      <td>2014-04-01</td>\n",
       "      <td>467.28</td>\n",
       "      <td>488.62</td>\n",
       "      <td>467.28</td>\n",
       "      <td>479.56</td>\n",
       "      <td>74,776.48</td>\n",
       "      <td>482.76</td>\n",
       "      <td>482.82</td>\n",
       "    </tr>\n",
       "    <tr>\n",
       "      <th>1</th>\n",
       "      <td>GWA_BTC</td>\n",
       "      <td>2014-04-02</td>\n",
       "      <td>479.20</td>\n",
       "      <td>494.30</td>\n",
       "      <td>431.32</td>\n",
       "      <td>437.08</td>\n",
       "      <td>114,052.96</td>\n",
       "      <td>460.19</td>\n",
       "      <td>465.93</td>\n",
       "    </tr>\n",
       "    <tr>\n",
       "      <th>2</th>\n",
       "      <td>GWA_BTC</td>\n",
       "      <td>2014-04-03</td>\n",
       "      <td>437.33</td>\n",
       "      <td>449.74</td>\n",
       "      <td>414.41</td>\n",
       "      <td>445.60</td>\n",
       "      <td>91,415.08</td>\n",
       "      <td>432.29</td>\n",
       "      <td>433.28</td>\n",
       "    </tr>\n",
       "    <tr>\n",
       "      <th>3</th>\n",
       "      <td>GWA_BTC</td>\n",
       "      <td>2014-04-04</td>\n",
       "      <td>445.18</td>\n",
       "      <td>456.10</td>\n",
       "      <td>429.16</td>\n",
       "      <td>449.81</td>\n",
       "      <td>51,147.27</td>\n",
       "      <td>443.46</td>\n",
       "      <td>443.93</td>\n",
       "    </tr>\n",
       "    <tr>\n",
       "      <th>4</th>\n",
       "      <td>GWA_BTC</td>\n",
       "      <td>2014-04-05</td>\n",
       "      <td>450.08</td>\n",
       "      <td>464.09</td>\n",
       "      <td>445.16</td>\n",
       "      <td>461.70</td>\n",
       "      <td>28,449.19</td>\n",
       "      <td>452.53</td>\n",
       "      <td>452.95</td>\n",
       "    </tr>\n",
       "  </tbody>\n",
       "</table>\n",
       "</div>"
      ],
      "text/plain": [
       "      Code        Date   Open   High    Low  Close     Volume   VWAP   TWAP\n",
       "0  GWA_BTC  2014-04-01 467.28 488.62 467.28 479.56  74,776.48 482.76 482.82\n",
       "1  GWA_BTC  2014-04-02 479.20 494.30 431.32 437.08 114,052.96 460.19 465.93\n",
       "2  GWA_BTC  2014-04-03 437.33 449.74 414.41 445.60  91,415.08 432.29 433.28\n",
       "3  GWA_BTC  2014-04-04 445.18 456.10 429.16 449.81  51,147.27 443.46 443.93\n",
       "4  GWA_BTC  2014-04-05 450.08 464.09 445.16 461.70  28,449.19 452.53 452.95"
      ]
     },
     "execution_count": 4,
     "metadata": {},
     "output_type": "execute_result"
    }
   ],
   "source": [
    "df.head(5)"
   ]
  },
  {
   "cell_type": "markdown",
   "metadata": {},
   "source": [
    "### Data Dictionary (for code GWA_BTC):\n",
    "\n",
    "Date: The day on which the index values were calculated.\n",
    "\n",
    "Open: The day's opening price index for Bitcoin in US dollars.\n",
    "\n",
    "High: The highest value for the price index for Bitcoin in US dollars that day.\n",
    "\n",
    "Low: The lowest value for the price index for Bitcoin in US dollars that day.\n",
    "\n",
    "Close: The day's closing price index for Bitcoin in US dollars.\n",
    "\n",
    "Volume: The volume of Bitcoin traded that day.\n",
    "\n",
    "VWAP: The volume weighted average price of Bitcoin traded that day.\n",
    "\n",
    "TWAP: The time-weighted average price of Bitcoin traded that day"
   ]
  },
  {
   "cell_type": "markdown",
   "metadata": {},
   "source": [
    "### Inspect the data"
   ]
  },
  {
   "cell_type": "code",
   "execution_count": 5,
   "metadata": {},
   "outputs": [
    {
     "name": "stdout",
     "output_type": "stream",
     "text": [
      "['GWA_BTC' 'GWA_ETH' 'GWA_LTC' 'GWA_XLM' 'GWA_XRP' 'MWA_BTC_CNY'\n",
      " 'MWA_BTC_EUR' 'MWA_BTC_GBP' 'MWA_BTC_JPY' 'MWA_BTC_USD' 'MWA_ETH_CNY'\n",
      " 'MWA_ETH_EUR' 'MWA_ETH_GBP' 'MWA_ETH_JPY' 'MWA_ETH_USD' 'MWA_LTC_CNY'\n",
      " 'MWA_LTC_EUR' 'MWA_LTC_GBP' 'MWA_LTC_JPY' 'MWA_LTC_USD' 'MWA_XLM_CNY'\n",
      " 'MWA_XLM_EUR' 'MWA_XLM_USD' 'MWA_XRP_CNY' 'MWA_XRP_EUR' 'MWA_XRP_GBP'\n",
      " 'MWA_XRP_JPY' 'MWA_XRP_USD']\n"
     ]
    }
   ],
   "source": [
    "print( df.Code.unique() )"
   ]
  },
  {
   "cell_type": "code",
   "execution_count": 6,
   "metadata": {},
   "outputs": [
    {
     "data": {
      "text/html": [
       "<div>\n",
       "<style>\n",
       "    .dataframe thead tr:only-child th {\n",
       "        text-align: right;\n",
       "    }\n",
       "\n",
       "    .dataframe thead th {\n",
       "        text-align: left;\n",
       "    }\n",
       "\n",
       "    .dataframe tbody tr th {\n",
       "        vertical-align: top;\n",
       "    }\n",
       "</style>\n",
       "<table border=\"1\" class=\"dataframe\">\n",
       "  <thead>\n",
       "    <tr style=\"text-align: right;\">\n",
       "      <th></th>\n",
       "      <th>Code</th>\n",
       "      <th>Date</th>\n",
       "      <th>Open</th>\n",
       "      <th>High</th>\n",
       "      <th>Low</th>\n",
       "      <th>Close</th>\n",
       "      <th>Volume</th>\n",
       "      <th>VWAP</th>\n",
       "      <th>TWAP</th>\n",
       "    </tr>\n",
       "  </thead>\n",
       "  <tbody>\n",
       "    <tr>\n",
       "      <th>1371</th>\n",
       "      <td>GWA_BTC</td>\n",
       "      <td>2018-01-01</td>\n",
       "      <td>14,505.89</td>\n",
       "      <td>14,505.89</td>\n",
       "      <td>13,617.46</td>\n",
       "      <td>14,092.74</td>\n",
       "      <td>225,906.21</td>\n",
       "      <td>14,103.18</td>\n",
       "      <td>14,093.73</td>\n",
       "    </tr>\n",
       "    <tr>\n",
       "      <th>9074</th>\n",
       "      <td>MWA_BTC_EUR</td>\n",
       "      <td>2018-01-01</td>\n",
       "      <td>11,859.35</td>\n",
       "      <td>11,859.35</td>\n",
       "      <td>11,111.07</td>\n",
       "      <td>11,403.92</td>\n",
       "      <td>14,933.73</td>\n",
       "      <td>11,488.45</td>\n",
       "      <td>11,478.08</td>\n",
       "    </tr>\n",
       "    <tr>\n",
       "      <th>11838</th>\n",
       "      <td>MWA_BTC_JPY</td>\n",
       "      <td>2018-01-01</td>\n",
       "      <td>1,674,341.45</td>\n",
       "      <td>1,678,567.55</td>\n",
       "      <td>1,572,173.90</td>\n",
       "      <td>1,632,657.51</td>\n",
       "      <td>68,611.95</td>\n",
       "      <td>1,632,994.40</td>\n",
       "      <td>1,631,407.66</td>\n",
       "    </tr>\n",
       "  </tbody>\n",
       "</table>\n",
       "</div>"
      ],
      "text/plain": [
       "              Code        Date         Open         High          Low  \\\n",
       "1371       GWA_BTC  2018-01-01    14,505.89    14,505.89    13,617.46   \n",
       "9074   MWA_BTC_EUR  2018-01-01    11,859.35    11,859.35    11,111.07   \n",
       "11838  MWA_BTC_JPY  2018-01-01 1,674,341.45 1,678,567.55 1,572,173.90   \n",
       "\n",
       "             Close     Volume         VWAP         TWAP  \n",
       "1371     14,092.74 225,906.21    14,103.18    14,093.73  \n",
       "9074     11,403.92  14,933.73    11,488.45    11,478.08  \n",
       "11838 1,632,657.51  68,611.95 1,632,994.40 1,631,407.66  "
      ]
     },
     "execution_count": 6,
     "metadata": {},
     "output_type": "execute_result"
    }
   ],
   "source": [
    "df[df.Code.isin(['GWA_BTC', 'MWA_BTC_JPY', 'MWA_BTC_EUR']) \n",
    "   & (df.Date == '2018-01-01')]"
   ]
  },
  {
   "cell_type": "markdown",
   "metadata": {},
   "source": [
    "### Filter out unneeded records\n",
    "\n",
    "Discard MWA but keep the GWA aggregate codes"
   ]
  },
  {
   "cell_type": "code",
   "execution_count": 7,
   "metadata": {
    "collapsed": true
   },
   "outputs": [],
   "source": [
    "gwa_codes = [code for code in df.Code.unique() if 'GWA_' in code]\n",
    "df = df[df.Code.isin(gwa_codes)]"
   ]
  },
  {
   "cell_type": "markdown",
   "metadata": {},
   "source": [
    "### Unstack the dataset\n",
    "\n",
    "Pivot the dataset while keeping only one price column"
   ]
  },
  {
   "cell_type": "code",
   "execution_count": 8,
   "metadata": {},
   "outputs": [
    {
     "data": {
      "text/html": [
       "<div>\n",
       "<style>\n",
       "    .dataframe thead tr:only-child th {\n",
       "        text-align: right;\n",
       "    }\n",
       "\n",
       "    .dataframe thead th {\n",
       "        text-align: left;\n",
       "    }\n",
       "\n",
       "    .dataframe tbody tr th {\n",
       "        vertical-align: top;\n",
       "    }\n",
       "</style>\n",
       "<table border=\"1\" class=\"dataframe\">\n",
       "  <thead>\n",
       "    <tr style=\"text-align: right;\">\n",
       "      <th>Code</th>\n",
       "      <th>GWA_BTC</th>\n",
       "      <th>GWA_ETH</th>\n",
       "      <th>GWA_LTC</th>\n",
       "      <th>GWA_XLM</th>\n",
       "      <th>GWA_XRP</th>\n",
       "    </tr>\n",
       "    <tr>\n",
       "      <th>Date</th>\n",
       "      <th></th>\n",
       "      <th></th>\n",
       "      <th></th>\n",
       "      <th></th>\n",
       "      <th></th>\n",
       "    </tr>\n",
       "  </thead>\n",
       "  <tbody>\n",
       "    <tr>\n",
       "      <th>2018-01-19</th>\n",
       "      <td>11,826.36</td>\n",
       "      <td>1,068.45</td>\n",
       "      <td>195.00</td>\n",
       "      <td>0.51</td>\n",
       "      <td>1.82</td>\n",
       "    </tr>\n",
       "    <tr>\n",
       "      <th>2018-01-20</th>\n",
       "      <td>13,062.68</td>\n",
       "      <td>1,158.71</td>\n",
       "      <td>207.58</td>\n",
       "      <td>0.52</td>\n",
       "      <td>1.75</td>\n",
       "    </tr>\n",
       "    <tr>\n",
       "      <th>2018-01-21</th>\n",
       "      <td>12,326.23</td>\n",
       "      <td>1,108.90</td>\n",
       "      <td>197.36</td>\n",
       "      <td>0.48</td>\n",
       "      <td>1.55</td>\n",
       "    </tr>\n",
       "    <tr>\n",
       "      <th>2018-01-22</th>\n",
       "      <td>11,397.52</td>\n",
       "      <td>1,038.21</td>\n",
       "      <td>184.92</td>\n",
       "      <td>0.47</td>\n",
       "      <td>1.43</td>\n",
       "    </tr>\n",
       "    <tr>\n",
       "      <th>2018-01-23</th>\n",
       "      <td>10,921.00</td>\n",
       "      <td>992.05</td>\n",
       "      <td>176.95</td>\n",
       "      <td>0.47</td>\n",
       "      <td>1.42</td>\n",
       "    </tr>\n",
       "  </tbody>\n",
       "</table>\n",
       "</div>"
      ],
      "text/plain": [
       "Code         GWA_BTC  GWA_ETH  GWA_LTC  GWA_XLM  GWA_XRP\n",
       "Date                                                    \n",
       "2018-01-19 11,826.36 1,068.45   195.00     0.51     1.82\n",
       "2018-01-20 13,062.68 1,158.71   207.58     0.52     1.75\n",
       "2018-01-21 12,326.23 1,108.90   197.36     0.48     1.55\n",
       "2018-01-22 11,397.52 1,038.21   184.92     0.47     1.43\n",
       "2018-01-23 10,921.00   992.05   176.95     0.47     1.42"
      ]
     },
     "execution_count": 8,
     "metadata": {},
     "output_type": "execute_result"
    }
   ],
   "source": [
    "pivoted_df = df.pivot(index='Date', columns='Code', values='VWAP')\n",
    "pivoted_df.tail()"
   ]
  },
  {
   "cell_type": "markdown",
   "metadata": {
    "collapsed": true
   },
   "source": [
    "### Shift the dataset\n",
    "\n",
    "Generate returns for 7, 14, 21, 28 day windows by shifting the pivoted dataset by the required number of days.\n",
    "\n",
    "Assumptions: records are sorted ascending by date and there are no missing dates"
   ]
  },
  {
   "cell_type": "code",
   "execution_count": 11,
   "metadata": {},
   "outputs": [],
   "source": [
    "delta_dict = {}\n",
    "for offset in [7, 14, 21, 28]:\n",
    "    delta_dict['delta_{}'.format(offset)] = pivoted_df / pivoted_df.shift(offset) - 1.0"
   ]
  },
  {
   "cell_type": "code",
   "execution_count": 13,
   "metadata": {},
   "outputs": [
    {
     "data": {
      "text/plain": [
       "dict_keys(['delta_7', 'delta_14', 'delta_21', 'delta_28'])"
      ]
     },
     "execution_count": 13,
     "metadata": {},
     "output_type": "execute_result"
    }
   ],
   "source": [
    "delta_dict.keys()"
   ]
  },
  {
   "cell_type": "markdown",
   "metadata": {},
   "source": [
    "### Melt the shifted dataset\n",
    "\n",
    "Unpivot to such that each row contains only info for a particular coin on a particular date"
   ]
  },
  {
   "cell_type": "code",
   "execution_count": 15,
   "metadata": {},
   "outputs": [
    {
     "data": {
      "text/html": [
       "<div>\n",
       "<style>\n",
       "    .dataframe thead tr:only-child th {\n",
       "        text-align: right;\n",
       "    }\n",
       "\n",
       "    .dataframe thead th {\n",
       "        text-align: left;\n",
       "    }\n",
       "\n",
       "    .dataframe tbody tr th {\n",
       "        vertical-align: top;\n",
       "    }\n",
       "</style>\n",
       "<table border=\"1\" class=\"dataframe\">\n",
       "  <thead>\n",
       "    <tr style=\"text-align: right;\">\n",
       "      <th></th>\n",
       "      <th>Date</th>\n",
       "      <th>Code</th>\n",
       "      <th>delta_7</th>\n",
       "    </tr>\n",
       "  </thead>\n",
       "  <tbody>\n",
       "    <tr>\n",
       "      <th>6965</th>\n",
       "      <td>2018-01-19</td>\n",
       "      <td>GWA_XRP</td>\n",
       "      <td>-0.22</td>\n",
       "    </tr>\n",
       "    <tr>\n",
       "      <th>6966</th>\n",
       "      <td>2018-01-20</td>\n",
       "      <td>GWA_XRP</td>\n",
       "      <td>-0.29</td>\n",
       "    </tr>\n",
       "    <tr>\n",
       "      <th>6967</th>\n",
       "      <td>2018-01-21</td>\n",
       "      <td>GWA_XRP</td>\n",
       "      <td>-0.30</td>\n",
       "    </tr>\n",
       "    <tr>\n",
       "      <th>6968</th>\n",
       "      <td>2018-01-22</td>\n",
       "      <td>GWA_XRP</td>\n",
       "      <td>-0.32</td>\n",
       "    </tr>\n",
       "    <tr>\n",
       "      <th>6969</th>\n",
       "      <td>2018-01-23</td>\n",
       "      <td>GWA_XRP</td>\n",
       "      <td>-0.04</td>\n",
       "    </tr>\n",
       "  </tbody>\n",
       "</table>\n",
       "</div>"
      ],
      "text/plain": [
       "            Date     Code  delta_7\n",
       "6965  2018-01-19  GWA_XRP    -0.22\n",
       "6966  2018-01-20  GWA_XRP    -0.29\n",
       "6967  2018-01-21  GWA_XRP    -0.30\n",
       "6968  2018-01-22  GWA_XRP    -0.32\n",
       "6969  2018-01-23  GWA_XRP    -0.04"
      ]
     },
     "execution_count": 15,
     "metadata": {},
     "output_type": "execute_result"
    }
   ],
   "source": [
    "melted_7 = delta_dict['delta_7'].reset_index().melt(id_vars=['Date'], value_name='delta_7')\n",
    "melted_7.tail()"
   ]
  },
  {
   "cell_type": "code",
   "execution_count": 16,
   "metadata": {
    "collapsed": true
   },
   "outputs": [],
   "source": [
    "melted_dfs = []\n",
    "for key, delta_df in delta_dict.items():\n",
    "    melted_dfs.append( delta_df.reset_index().melt(id_vars=['Date'], value_name=key) )"
   ]
  },
  {
   "cell_type": "markdown",
   "metadata": {},
   "source": [
    "### Create target variable\n",
    "\n",
    "Create another melted dataframe that contains the forward-looking 7-day returns.\n",
    "\n",
    "Shift the pivoted dataset by -7  to get \"future\" prices"
   ]
  },
  {
   "cell_type": "code",
   "execution_count": 17,
   "metadata": {
    "collapsed": true
   },
   "outputs": [],
   "source": [
    "return_df = pivoted_df.shift(-7) / pivoted_df - 1.0\n",
    "melted_dfs.append( return_df.reset_index().melt(id_vars=['Date'], value_name='return_7') )"
   ]
  },
  {
   "cell_type": "code",
   "execution_count": null,
   "metadata": {
    "collapsed": true
   },
   "outputs": [],
   "source": []
  }
 ],
 "metadata": {
  "kernelspec": {
   "display_name": "Python 3",
   "language": "python",
   "name": "python3"
  },
  "language_info": {
   "codemirror_mode": {
    "name": "ipython",
    "version": 3
   },
   "file_extension": ".py",
   "mimetype": "text/x-python",
   "name": "python",
   "nbconvert_exporter": "python",
   "pygments_lexer": "ipython3",
   "version": "3.6.3"
  }
 },
 "nbformat": 4,
 "nbformat_minor": 2
}
