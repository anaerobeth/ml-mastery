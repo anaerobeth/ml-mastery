{
 "cells": [
  {
   "cell_type": "markdown",
   "metadata": {},
   "source": [
    "Based on [Sentiment Analysis on Reddit News tutorial](http://www.learndatasci.com/sentiment-analysis-reddit-headlines-pythons-nltk/)\n",
    "\n",
    "Categorize news articles as positive, negative or neutral based on overall sentiment of content"
   ]
  },
  {
   "cell_type": "code",
   "execution_count": 50,
   "metadata": {
    "collapsed": false
   },
   "outputs": [],
   "source": [
    "import requests\n",
    "import json\n",
    "import time\n",
    "from nltk.sentiment.vader import SentimentIntensityAnalyzer as SIA"
   ]
  },
  {
   "cell_type": "markdown",
   "metadata": {},
   "source": [
    "### Collect articles from Reddit politics channel"
   ]
  },
  {
   "cell_type": "code",
   "execution_count": 46,
   "metadata": {
    "collapsed": true
   },
   "outputs": [],
   "source": [
    "header = {'User-Agent': 'windows:r/politics.single.result:v1.0' +\n",
    "       '(by /u/anaerobeth)'}\n",
    "url = 'https://www.reddit.com/r/politics/.json'\n",
    "request = requests.get(url, headers=header)\n",
    "data = json.loads(request.text)"
   ]
  },
  {
   "cell_type": "code",
   "execution_count": null,
   "metadata": {
    "collapsed": true
   },
   "outputs": [],
   "source": [
    "# collect 1000 articles in batches of 250\n",
    "posts = data['data']['children']\n",
    "number_of_posts = 0\n",
    "\n",
    "while len(posts) <= 100:\n",
    "    time.sleep(2)\n",
    "    last = posts[-1]['data']['name']\n",
    "    url = 'https://www.reddit.com/r/politics.json?after=' + str(last)\n",
    "    request = requests.get(url, headers=header)\n",
    "    data = json.loads(request.text)\n",
    "    posts += data['data']['children']\n",
    "    if number_of_posts == len(posts):\n",
    "        break\n",
    "    else:\n",
    "        number_of_posts = len(posts)"
   ]
  },
  {
   "cell_type": "markdown",
   "metadata": {},
   "source": [
    "### Run sentiment analysis"
   ]
  },
  {
   "cell_type": "code",
   "execution_count": null,
   "metadata": {
    "collapsed": true
   },
   "outputs": [],
   "source": [
    " sia = SIA()\n",
    "positives = []\n",
    "negatives = []\n",
    "\n",
    "for post in posts:\n",
    "    response = sia.polarity_scores(post['data']['title'])\n",
    "    if response['compound'] > 0.2:\n",
    "        positives.append(post['data']['title'])\n",
    "    elif response['compound'] < -0.2:\n",
    "        negatives.append(post['data']['title'])\n",
    "\n",
    "with open(\"positive_news_titles.txt\", \"w\", encoding='utf-8', errors='ignore') as f_pos:\n",
    "    for post in positives:\n",
    "        f_pos.write(post + \"\\n\")\n",
    "\n",
    "with open(\"negative_news_titles.txt\", \"w\", encoding='utf-8', errors='ignore') as f_neg:\n",
    "    for post in negatives:\n",
    "        f.neg.write(post + \"\\n\")\n",
    "    "
   ]
  },
  {
   "cell_type": "code",
   "execution_count": null,
   "metadata": {
    "collapsed": true
   },
   "outputs": [],
   "source": []
  }
 ],
 "metadata": {
  "anaconda-cloud": {},
  "kernelspec": {
   "display_name": "Python [conda env:IntroToTensorFlow]",
   "language": "python",
   "name": "conda-env-IntroToTensorFlow-py"
  },
  "language_info": {
   "codemirror_mode": {
    "name": "ipython",
    "version": 3
   },
   "file_extension": ".py",
   "mimetype": "text/x-python",
   "name": "python",
   "nbconvert_exporter": "python",
   "pygments_lexer": "ipython3",
   "version": "3.6.0"
  }
 },
 "nbformat": 4,
 "nbformat_minor": 1
}
