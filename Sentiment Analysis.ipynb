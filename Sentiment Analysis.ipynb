{
 "cells": [
  {
   "cell_type": "markdown",
   "metadata": {},
   "source": [
    "Based on [Sentiment Analysis on Reddit News tutorial](http://www.learndatasci.com/sentiment-analysis-reddit-headlines-pythons-nltk/)\n",
    "\n",
    "Categorize news articles as positive, negative or neutral based on overall sentiment of content"
   ]
  },
  {
   "cell_type": "code",
   "execution_count": 1,
   "metadata": {
    "collapsed": false
   },
   "outputs": [
    {
     "name": "stderr",
     "output_type": "stream",
     "text": [
      "/Users/Tenorio/anaconda/lib/python3.5/site-packages/nltk/twitter/__init__.py:20: UserWarning: The twython library has not been installed. Some functionality from the twitter package will not be available.\n",
      "  warnings.warn(\"The twython library has not been installed. \"\n"
     ]
    }
   ],
   "source": [
    "import requests\n",
    "import json\n",
    "import time\n",
    "from nltk.sentiment.vader import SentimentIntensityAnalyzer as SIA"
   ]
  },
  {
   "cell_type": "markdown",
   "metadata": {},
   "source": [
    "### Collect articles from /politics subreddit\n",
    "Set the header as follows: `<platform>:<app ID>:<version string> (by /u/<reddit username>)`\n",
    "\n",
    "Collect news articles in batches of 25 until a total of 125 is reached."
   ]
  },
  {
   "cell_type": "code",
   "execution_count": 2,
   "metadata": {
    "collapsed": true
   },
   "outputs": [],
   "source": [
    "header = {'User-Agent': 'windows:r/politics.single.result:v1.0' +\n",
    "       '(by /u/anaerobeth)'}\n",
    "url = 'https://www.reddit.com/r/politics/.json'\n",
    "request = requests.get(url, headers=header)\n",
    "data = json.loads(request.text)"
   ]
  },
  {
   "cell_type": "code",
   "execution_count": 61,
   "metadata": {
    "collapsed": false
   },
   "outputs": [],
   "source": [
    "# Collect articles (capped at 125 when accessed on 11/09/2017)\n",
    "posts = data['data']['children']\n",
    "number_of_posts = 0\n",
    "\n",
    "while len(posts) <= 125:\n",
    "    time.sleep(2)\n",
    "    last = posts[-1]['data']['name']\n",
    "    url = 'https://www.reddit.com/r/politics.json?after=' + str(last)\n",
    "    request = requests.get(url, headers=header)\n",
    "    data = json.loads(request.text)\n",
    "    posts += data['data']['children']\n",
    "    if number_of_posts == len(posts):\n",
    "        break\n",
    "    else:\n",
    "        number_of_posts = len(posts)\n"
   ]
  },
  {
   "cell_type": "markdown",
   "metadata": {},
   "source": [
    "### Run sentiment analysis\n",
    "\n",
    "The method `polarity_score` returns a hash with scores for how positive or negative a headline is.\n",
    "\n",
    "Example: {'compound': 0.0, 'neg': 0.0, 'neu': 1.0, 'pos': 0.0}\n",
    "\n",
    "Headlines with compound value between 0.2 and -0.2 are categorized as neutral."
   ]
  },
  {
   "cell_type": "code",
   "execution_count": 12,
   "metadata": {
    "collapsed": false
   },
   "outputs": [],
   "source": [
    "sia = SIA()\n",
    "positives = []\n",
    "negatives = []\n",
    "\n",
    "for post in posts:\n",
    "    response = sia.polarity_scores(post['data']['title'])\n",
    "    if response['compound'] > 0.2:\n",
    "        positives.append(post['data']['title'])\n",
    "    elif response['compound'] < -0.2:\n",
    "        negatives.append(post['data']['title'])\n",
    "\n",
    "with open(\"positive_news_titles.txt\", \"w\", encoding='utf-8', errors='ignore') as f_pos:\n",
    "    for post in positives:\n",
    "        f_pos.write(post + \"\\n\")\n",
    "\n",
    "with open(\"negative_news_titles.txt\", \"w\", encoding='utf-8', errors='ignore') as f_neg:\n",
    "    for post in negatives:\n",
    "        f_neg.write(post + \"\\n\")\n",
    "  "
   ]
  },
  {
   "cell_type": "markdown",
   "metadata": {},
   "source": [
    "### Dataset distribution\n",
    "Visualize distribution of headlines according to categories"
   ]
  },
  {
   "cell_type": "code",
   "execution_count": 59,
   "metadata": {
    "collapsed": false
   },
   "outputs": [],
   "source": [
    "import matplotlib.pyplot as plt\n",
    "import matplotlib.style as style\n",
    "%matplotlib inline\n",
    "\n",
    "style.use('fivethirtyeight')\n",
    "percent_positives = len(positives)/125 * 100\n",
    "percent_negatives = len(negatives)/125 * 100\n",
    "percent_neutrals = 100 - percent_positives - percent_negatives\n",
    "percentages = [percent_positives, percent_negatives, percent_neutrals]\n",
    "x = range(len(percentages))"
   ]
  },
  {
   "cell_type": "code",
   "execution_count": 60,
   "metadata": {
    "collapsed": false
   },
   "outputs": [
    {
     "data": {
      "text/plain": [
       "([<matplotlib.axis.XTick at 0x1184dc2e8>,\n",
       "  <matplotlib.axis.XTick at 0x11843eac8>,\n",
       "  <matplotlib.axis.XTick at 0x118465128>],\n",
       " <a list of 3 Text xticklabel objects>)"
      ]
     },
     "execution_count": 60,
     "metadata": {},
     "output_type": "execute_result"
    },
    {
     "data": {
      "image/png": "[encoded data removed]",
      "text/plain": [
       "<matplotlib.figure.Figure at 0x118387208>"
      ]
     },
     "metadata": {},
     "output_type": "display_data"
    }
   ],
   "source": [
    "plt.bar(x, percentages)\n",
    "plt.xticks(x, ['Positives', 'Negatives', 'Neutrals'])"
   ]
  },
  {
   "cell_type": "markdown",
   "metadata": {},
   "source": [
    "A quarter of all headlines collected on 11/09/2017 are categorized as Positives while the rest are split evenly between Negatives and Neutrals."
   ]
  },
  {
   "cell_type": "markdown",
   "metadata": {},
   "source": [
    "### Additional data processing\n",
    "Set stop words and tokenize sentences then compare the frequencies of words in positive, negative and neutral headlines."
   ]
  },
  {
   "cell_type": "code",
   "execution_count": 73,
   "metadata": {
    "collapsed": false
   },
   "outputs": [],
   "source": [
    "from nltk.corpus import stopwords\n",
    "from nltk.tokenize import RegexpTokenizer\n",
    "import math"
   ]
  },
  {
   "cell_type": "code",
   "execution_count": 107,
   "metadata": {
    "collapsed": false
   },
   "outputs": [],
   "source": [
    "stop_words = set(stopwords.words('english'))\n",
    "stop_words.add('u') # Reddit users seem to use this a lot\n",
    "tokenizer = RegexpTokenizer(r'\\w+')\n",
    "\n",
    "def categorize_words(lines):\n",
    "    word_list = []\n",
    "    \n",
    "    for line in lines:\n",
    "        words = tokenizer.tokenize(line)\n",
    "        for word in words:\n",
    "            w = word.lower()\n",
    "            if w not in stop_words:\n",
    "                word_list.append(w)\n",
    "    \n",
    "    return word_list\n",
    "\n",
    "positive_words = categorize_words(positives)\n",
    "negative_words = categorize_words(negatives)"
   ]
  },
  {
   "cell_type": "markdown",
   "metadata": {},
   "source": [
    "### Analyze word frequency distribution"
   ]
  },
  {
   "cell_type": "code",
   "execution_count": 109,
   "metadata": {
    "collapsed": false
   },
   "outputs": [
    {
     "name": "stdout",
     "output_type": "stream",
     "text": [
      "[('trump', 11), ('moore', 5), ('rich', 5), ('gop', 5), ('tax', 4), ('u', 4), ('allegations', 3), ('true', 3)]\n",
      "[('moore', 12), ('roy', 10), ('trump', 9), ('republicans', 9), ('sexual', 8), ('senate', 6), ('allegations', 4), ('tax', 4)]\n"
     ]
    }
   ],
   "source": [
    "positive_words_freq = nltk.FreqDist(positive_words)\n",
    "negative_words_freq = nltk.FreqDist(negative_words)\n",
    "print(positive_words_dist.most_common(8))\n",
    "print(negative_words_dist.most_common(8))"
   ]
  },
  {
   "cell_type": "code",
   "execution_count": 114,
   "metadata": {
    "collapsed": false
   },
   "outputs": [
    {
     "data": {
      "image/png": "[encoded data removed]",
      "text/plain": [
       "<matplotlib.figure.Figure at 0x11b4a3978>"
      ]
     },
     "metadata": {},
     "output_type": "display_data"
    },
    {
     "data": {
      "image/png": "[encoded data removed]",
      "text/plain": [
       "<matplotlib.figure.Figure at 0x11b4534e0>"
      ]
     },
     "metadata": {},
     "output_type": "display_data"
    }
   ],
   "source": [
    "def plot_word_frequencies(words, category):\n",
    "    freq = nltk.FreqDist(words)\n",
    "    most_common = dict(freq.most_common(8))\n",
    "    x = range(len(most_common))\n",
    "    plt.figure(figsize=(12,3))\n",
    "    plt.title(\"Most Frequent Words in {} Headlines\".format(category))\n",
    "    plt.bar(x, most_common.values(), align='center')\n",
    "    plt.xticks(x, most_common.keys())\n",
    "    \n",
    "plot_word_frequencies(positive_words, \"Positive\")\n",
    "plot_word_frequencies(negative_words, \"Negative\")"
   ]
  },
  {
   "cell_type": "markdown",
   "metadata": {},
   "source": [
    "Positive headlines mostly about 'Trump' who is meeting with Asian leaders while 'tax' is a distant fourth in the same week that the GOP has been releasing the first details of their tax plan.  Negative headlines are dominated by a scandal involving an Alabama candidate for senator (six of eight most frequent words 'moore', 'roy', 'sexual', 'republicans', 'senate' and 'allegations').  Some words such as 'allegations', 'republicans', 'tax', 'trump' and 'moore' appear in both Positives and Negatives list suggesting mixed news coverage and an attempt to downplay the negative coverage of the Moore scandal."
   ]
  },
  {
   "cell_type": "code",
   "execution_count": null,
   "metadata": {
    "collapsed": true
   },
   "outputs": [],
   "source": []
  }
 ],
 "metadata": {
  "anaconda-cloud": {},
  "kernelspec": {
   "display_name": "Python [default]",
   "language": "python",
   "name": "python3"
  },
  "language_info": {
   "codemirror_mode": {
    "name": "ipython",
    "version": 3
   },
   "file_extension": ".py",
   "mimetype": "text/x-python",
   "name": "python",
   "nbconvert_exporter": "python",
   "pygments_lexer": "ipython3",
   "version": "3.5.2"
  }
 },
 "nbformat": 4,
 "nbformat_minor": 1
}
